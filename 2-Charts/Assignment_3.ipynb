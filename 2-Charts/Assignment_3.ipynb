{
 "cells": [
  {
   "cell_type": "markdown",
   "metadata": {},
   "source": [
    "# Assignment 3 - Building a Custom Visualization\n",
    "\n",
    "---\n",
    "\n",
    "In this assignment you must choose one of the options presented below and submit a visual as well as your source code for peer grading. The details of how you solve the assignment are up to you, although your assignment must use matplotlib so that your peers can evaluate your work. The options differ in challenge level, but there are no grades associated with the challenge level you chose. However, your peers will be asked to ensure you at least met a minimum quality for a given technique in order to pass. Implement the technique fully (or exceed it!) and you should be able to earn full grades for the assignment.\n",
    "\n",
    "\n",
    "&nbsp;&nbsp;&nbsp;&nbsp;&nbsp;&nbsp;Ferreira, N., Fisher, D., & Konig, A. C. (2014, April). [Sample-oriented task-driven visualizations: allowing users to make better, more confident decisions.](https://www.microsoft.com/en-us/research/wp-content/uploads/2016/02/Ferreira_Fisher_Sample_Oriented_Tasks.pdf) \n",
    "&nbsp;&nbsp;&nbsp;&nbsp;&nbsp;&nbsp;In Proceedings of the SIGCHI Conference on Human Factors in Computing Systems (pp. 571-580). ACM. ([video](https://www.youtube.com/watch?v=BI7GAs-va-Q))\n",
    "\n",
    "\n",
    "In this [paper](https://www.microsoft.com/en-us/research/wp-content/uploads/2016/02/Ferreira_Fisher_Sample_Oriented_Tasks.pdf) the authors describe the challenges users face when trying to make judgements about probabilistic data generated through samples. As an example, they look at a bar chart of four years of data (replicated below in Figure 1). Each year has a y-axis value, which is derived from a sample of a larger dataset. For instance, the first value might be the number votes in a given district or riding for 1992, with the average being around 33,000. On top of this is plotted the 95% confidence interval for the mean (see the boxplot lectures for more information, and the yerr parameter of barcharts).\n",
    "\n",
    "<br>\n",
    "<img src=\"readonly/Assignment3Fig1.png\" alt=\"Figure 1\" style=\"width: 400px;\"/>\n",
    "<h4 style=\"text-align: center;\" markdown=\"1\">  &nbsp;&nbsp;&nbsp;&nbsp;&nbsp;&nbsp;&nbsp;&nbsp;Figure 1 from (Ferreira et al, 2014).</h4>\n",
    "\n",
    "<br>\n",
    "\n",
    "A challenge that users face is that, for a given y-axis value (e.g. 42,000), it is difficult to know which x-axis values are most likely to be representative, because the confidence levels overlap and their distributions are different (the lengths of the confidence interval bars are unequal). One of the solutions the authors propose for this problem (Figure 2c) is to allow users to indicate the y-axis value of interest (e.g. 42,000) and then draw a horizontal line and color bars based on this value. So bars might be colored red if they are definitely above this value (given the confidence interval), blue if they are definitely below this value, or white if they contain this value.\n",
    "\n",
    "\n",
    "<br>\n",
    "<img src=\"readonly/Assignment3Fig2c.png\" alt=\"Figure 1\" style=\"width: 400px;\"/>\n",
    "<h4 style=\"text-align: center;\" markdown=\"1\">  Figure 2c from (Ferreira et al. 2014). Note that the colorbar legend at the bottom as well as the arrows are not required in the assignment descriptions below.</h4>\n",
    "\n",
    "<br>\n",
    "<br>\n",
    "\n",
    "**Easiest option:** Implement the bar coloring as described above - a color scale with only three colors, (e.g. blue, white, and red). Assume the user provides the y axis value of interest as a parameter or variable.\n",
    "\n",
    "\n",
    "**Harder option:** Implement the bar coloring as described in the paper, where the color of the bar is actually based on the amount of data covered (e.g. a gradient ranging from dark blue for the distribution being certainly below this y-axis, to white if the value is certainly contained, to dark red if the value is certainly not contained as the distribution is above the axis).\n",
    "\n",
    "**Even Harder option:** Add interactivity to the above, which allows the user to click on the y axis to set the value of interest. The bar colors should change with respect to what value the user has selected.\n",
    "\n",
    "**Hardest option:** Allow the user to interactively set a range of y values they are interested in, and recolor based on this (e.g. a y-axis band, see the paper for more details).\n",
    "\n",
    "---\n",
    "\n",
    "*Note: The data given for this assignment is not the same as the data used in the article and as a result the visualizations may look a little different.*"
   ]
  },
  {
   "cell_type": "code",
   "execution_count": 106,
   "metadata": {
    "collapsed": false
   },
   "outputs": [
    {
     "data": {
      "text/html": [
       "<div>\n",
       "<table border=\"1\" class=\"dataframe\">\n",
       "  <thead>\n",
       "    <tr style=\"text-align: right;\">\n",
       "      <th></th>\n",
       "      <th>0</th>\n",
       "      <th>1</th>\n",
       "      <th>2</th>\n",
       "      <th>3</th>\n",
       "      <th>4</th>\n",
       "      <th>5</th>\n",
       "      <th>6</th>\n",
       "      <th>7</th>\n",
       "      <th>8</th>\n",
       "      <th>9</th>\n",
       "      <th>...</th>\n",
       "      <th>3640</th>\n",
       "      <th>3641</th>\n",
       "      <th>3642</th>\n",
       "      <th>3643</th>\n",
       "      <th>3644</th>\n",
       "      <th>3645</th>\n",
       "      <th>3646</th>\n",
       "      <th>3647</th>\n",
       "      <th>3648</th>\n",
       "      <th>3649</th>\n",
       "    </tr>\n",
       "  </thead>\n",
       "  <tbody>\n",
       "    <tr>\n",
       "      <th>1992</th>\n",
       "      <td>-8941.531897</td>\n",
       "      <td>127788.667612</td>\n",
       "      <td>-71887.743011</td>\n",
       "      <td>-79146.060869</td>\n",
       "      <td>425156.114501</td>\n",
       "      <td>310681.166595</td>\n",
       "      <td>50581.575349</td>\n",
       "      <td>88349.230566</td>\n",
       "      <td>185804.513522</td>\n",
       "      <td>281286.947277</td>\n",
       "      <td>...</td>\n",
       "      <td>171938.760289</td>\n",
       "      <td>150650.759924</td>\n",
       "      <td>203663.976475</td>\n",
       "      <td>-377877.158072</td>\n",
       "      <td>-197214.093861</td>\n",
       "      <td>24185.008589</td>\n",
       "      <td>-56826.729535</td>\n",
       "      <td>-67319.766489</td>\n",
       "      <td>113377.299342</td>\n",
       "      <td>-4494.878538</td>\n",
       "    </tr>\n",
       "    <tr>\n",
       "      <th>1993</th>\n",
       "      <td>-51896.094813</td>\n",
       "      <td>198350.518755</td>\n",
       "      <td>-123518.252821</td>\n",
       "      <td>-129916.759685</td>\n",
       "      <td>216119.147314</td>\n",
       "      <td>49845.883728</td>\n",
       "      <td>149135.648505</td>\n",
       "      <td>62807.672113</td>\n",
       "      <td>23365.577348</td>\n",
       "      <td>-109686.264981</td>\n",
       "      <td>...</td>\n",
       "      <td>-44566.520071</td>\n",
       "      <td>101032.122475</td>\n",
       "      <td>117648.199945</td>\n",
       "      <td>160475.622607</td>\n",
       "      <td>-13759.888342</td>\n",
       "      <td>-37333.493572</td>\n",
       "      <td>103019.841174</td>\n",
       "      <td>179746.127403</td>\n",
       "      <td>13455.493990</td>\n",
       "      <td>34442.898855</td>\n",
       "    </tr>\n",
       "    <tr>\n",
       "      <th>1994</th>\n",
       "      <td>152336.932066</td>\n",
       "      <td>192947.128056</td>\n",
       "      <td>389950.263156</td>\n",
       "      <td>-93006.152024</td>\n",
       "      <td>100818.575896</td>\n",
       "      <td>5529.230706</td>\n",
       "      <td>-32989.370488</td>\n",
       "      <td>223942.967178</td>\n",
       "      <td>-66721.580898</td>\n",
       "      <td>47826.269111</td>\n",
       "      <td>...</td>\n",
       "      <td>165085.806360</td>\n",
       "      <td>74735.174090</td>\n",
       "      <td>107329.726875</td>\n",
       "      <td>199250.734156</td>\n",
       "      <td>-36792.202754</td>\n",
       "      <td>-71861.846997</td>\n",
       "      <td>26375.113219</td>\n",
       "      <td>-29328.078384</td>\n",
       "      <td>65858.761714</td>\n",
       "      <td>-91542.001049</td>\n",
       "    </tr>\n",
       "    <tr>\n",
       "      <th>1995</th>\n",
       "      <td>-69708.439062</td>\n",
       "      <td>-13289.977022</td>\n",
       "      <td>-30178.390991</td>\n",
       "      <td>55052.181256</td>\n",
       "      <td>152883.621657</td>\n",
       "      <td>12930.835194</td>\n",
       "      <td>63700.461932</td>\n",
       "      <td>64148.489835</td>\n",
       "      <td>-29316.268556</td>\n",
       "      <td>59645.677367</td>\n",
       "      <td>...</td>\n",
       "      <td>-13901.388118</td>\n",
       "      <td>50173.686673</td>\n",
       "      <td>53965.990717</td>\n",
       "      <td>4128.990173</td>\n",
       "      <td>72202.595138</td>\n",
       "      <td>39937.199964</td>\n",
       "      <td>139472.114293</td>\n",
       "      <td>59386.186379</td>\n",
       "      <td>73362.229590</td>\n",
       "      <td>28705.082908</td>\n",
       "    </tr>\n",
       "  </tbody>\n",
       "</table>\n",
       "<p>4 rows × 3650 columns</p>\n",
       "</div>"
      ],
      "text/plain": [
       "               0              1              2              3     \\\n",
       "1992   -8941.531897  127788.667612  -71887.743011  -79146.060869   \n",
       "1993  -51896.094813  198350.518755 -123518.252821 -129916.759685   \n",
       "1994  152336.932066  192947.128056  389950.263156  -93006.152024   \n",
       "1995  -69708.439062  -13289.977022  -30178.390991   55052.181256   \n",
       "\n",
       "               4              5              6              7     \\\n",
       "1992  425156.114501  310681.166595   50581.575349   88349.230566   \n",
       "1993  216119.147314   49845.883728  149135.648505   62807.672113   \n",
       "1994  100818.575896    5529.230706  -32989.370488  223942.967178   \n",
       "1995  152883.621657   12930.835194   63700.461932   64148.489835   \n",
       "\n",
       "               8              9         ...                3640  \\\n",
       "1992  185804.513522  281286.947277      ...       171938.760289   \n",
       "1993   23365.577348 -109686.264981      ...       -44566.520071   \n",
       "1994  -66721.580898   47826.269111      ...       165085.806360   \n",
       "1995  -29316.268556   59645.677367      ...       -13901.388118   \n",
       "\n",
       "               3641           3642           3643           3644  \\\n",
       "1992  150650.759924  203663.976475 -377877.158072 -197214.093861   \n",
       "1993  101032.122475  117648.199945  160475.622607  -13759.888342   \n",
       "1994   74735.174090  107329.726875  199250.734156  -36792.202754   \n",
       "1995   50173.686673   53965.990717    4128.990173   72202.595138   \n",
       "\n",
       "              3645           3646           3647           3648          3649  \n",
       "1992  24185.008589  -56826.729535  -67319.766489  113377.299342  -4494.878538  \n",
       "1993 -37333.493572  103019.841174  179746.127403   13455.493990  34442.898855  \n",
       "1994 -71861.846997   26375.113219  -29328.078384   65858.761714 -91542.001049  \n",
       "1995  39937.199964  139472.114293   59386.186379   73362.229590  28705.082908  \n",
       "\n",
       "[4 rows x 3650 columns]"
      ]
     },
     "execution_count": 106,
     "metadata": {},
     "output_type": "execute_result"
    }
   ],
   "source": [
    "# Use the following data for this assignment:\n",
    "\n",
    "import pandas as pd\n",
    "import numpy as np\n",
    "\n",
    "np.random.seed(12345)\n",
    "\n",
    "df = pd.DataFrame([np.random.normal(32000,200000,3650), \n",
    "                   np.random.normal(43000,100000,3650), \n",
    "                   np.random.normal(43500,140000,3650), \n",
    "                   np.random.normal(48000,70000,3650)], \n",
    "                  index=[1992,1993,1994,1995])\n",
    "df"
   ]
  },
  {
   "cell_type": "code",
   "execution_count": 107,
   "metadata": {
    "collapsed": true
   },
   "outputs": [],
   "source": [
    "# Import matplotlib\n",
    "%matplotlib notebook\n",
    "import matplotlib.pyplot as plt\n",
    "from matplotlib.ticker import MaxNLocator"
   ]
  },
  {
   "cell_type": "code",
   "execution_count": 108,
   "metadata": {
    "collapsed": false
   },
   "outputs": [],
   "source": [
    "# Set X and Y Values\n",
    "xAxis = df.index.tolist()\n",
    "mean = df.mean(axis=1)\n",
    "std = df.std(axis=1)/np.sqrt(df.shape[1])*1.96"
   ]
  },
  {
   "cell_type": "code",
   "execution_count": 109,
   "metadata": {
    "collapsed": false
   },
   "outputs": [
    {
     "data": {
      "application/javascript": "/* Put everything inside the global mpl namespace */\nwindow.mpl = {};\n\n\nmpl.get_websocket_type = function() {\n    if (typeof(WebSocket) !== 'undefined') {\n        return WebSocket;\n    } else if (typeof(MozWebSocket) !== 'undefined') {\n        return MozWebSocket;\n    } else {\n        alert('Your browser does not have WebSocket support.' +\n              'Please try Chrome, Safari or Firefox ≥ 6. ' +\n              'Firefox 4 and 5 are also supported but you ' +\n              'have to enable WebSockets in about:config.');\n    };\n}\n\nmpl.figure = function(figure_id, websocket, ondownload, parent_element) {\n    this.id = figure_id;\n\n    this.ws = websocket;\n\n    this.supports_binary = (this.ws.binaryType != undefined);\n\n    if (!this.supports_binary) {\n        var warnings = document.getElementById(\"mpl-warnings\");\n        if (warnings) {\n            warnings.style.display = 'block';\n            warnings.textContent = (\n                \"This browser does not support binary websocket messages. \" +\n                    \"Performance may be slow.\");\n        }\n    }\n\n    this.imageObj = new Image();\n\n    this.context = undefined;\n    this.message = undefined;\n    this.canvas = undefined;\n    this.rubberband_canvas = undefined;\n    this.rubberband_context = undefined;\n    this.format_dropdown = undefined;\n\n    this.image_mode = 'full';\n\n    this.root = $('<div/>');\n    this._root_extra_style(this.root)\n    this.root.attr('style', 'display: inline-block');\n\n    $(parent_element).append(this.root);\n\n    this._init_header(this);\n    this._init_canvas(this);\n    this._init_toolbar(this);\n\n    var fig = this;\n\n    this.waiting = false;\n\n    this.ws.onopen =  function () {\n            fig.send_message(\"supports_binary\", {value: fig.supports_binary});\n            fig.send_message(\"send_image_mode\", {});\n            if (mpl.ratio != 1) {\n                fig.send_message(\"set_dpi_ratio\", {'dpi_ratio': mpl.ratio});\n            }\n            fig.send_message(\"refresh\", {});\n        }\n\n    this.imageObj.onload = function() {\n            if (fig.image_mode == 'full') {\n                // Full images could contain transparency (where diff images\n                // almost always do), so we need to clear the canvas so that\n                // there is no ghosting.\n                fig.context.clearRect(0, 0, fig.canvas.width, fig.canvas.height);\n            }\n            fig.context.drawImage(fig.imageObj, 0, 0);\n        };\n\n    this.imageObj.onunload = function() {\n        this.ws.close();\n    }\n\n    this.ws.onmessage = this._make_on_message_function(this);\n\n    this.ondownload = ondownload;\n}\n\nmpl.figure.prototype._init_header = function() {\n    var titlebar = $(\n        '<div class=\"ui-dialog-titlebar ui-widget-header ui-corner-all ' +\n        'ui-helper-clearfix\"/>');\n    var titletext = $(\n        '<div class=\"ui-dialog-title\" style=\"width: 100%; ' +\n        'text-align: center; padding: 3px;\"/>');\n    titlebar.append(titletext)\n    this.root.append(titlebar);\n    this.header = titletext[0];\n}\n\n\n\nmpl.figure.prototype._canvas_extra_style = function(canvas_div) {\n\n}\n\n\nmpl.figure.prototype._root_extra_style = function(canvas_div) {\n\n}\n\nmpl.figure.prototype._init_canvas = function() {\n    var fig = this;\n\n    var canvas_div = $('<div/>');\n\n    canvas_div.attr('style', 'position: relative; clear: both; outline: 0');\n\n    function canvas_keyboard_event(event) {\n        return fig.key_event(event, event['data']);\n    }\n\n    canvas_div.keydown('key_press', canvas_keyboard_event);\n    canvas_div.keyup('key_release', canvas_keyboard_event);\n    this.canvas_div = canvas_div\n    this._canvas_extra_style(canvas_div)\n    this.root.append(canvas_div);\n\n    var canvas = $('<canvas/>');\n    canvas.addClass('mpl-canvas');\n    canvas.attr('style', \"left: 0; top: 0; z-index: 0; outline: 0\")\n\n    this.canvas = canvas[0];\n    this.context = canvas[0].getContext(\"2d\");\n\n    var backingStore = this.context.backingStorePixelRatio ||\n\tthis.context.webkitBackingStorePixelRatio ||\n\tthis.context.mozBackingStorePixelRatio ||\n\tthis.context.msBackingStorePixelRatio ||\n\tthis.context.oBackingStorePixelRatio ||\n\tthis.context.backingStorePixelRatio || 1;\n\n    mpl.ratio = (window.devicePixelRatio || 1) / backingStore;\n\n    var rubberband = $('<canvas/>');\n    rubberband.attr('style', \"position: absolute; left: 0; top: 0; z-index: 1;\")\n\n    var pass_mouse_events = true;\n\n    canvas_div.resizable({\n        start: function(event, ui) {\n            pass_mouse_events = false;\n        },\n        resize: function(event, ui) {\n            fig.request_resize(ui.size.width, ui.size.height);\n        },\n        stop: function(event, ui) {\n            pass_mouse_events = true;\n            fig.request_resize(ui.size.width, ui.size.height);\n        },\n    });\n\n    function mouse_event_fn(event) {\n        if (pass_mouse_events)\n            return fig.mouse_event(event, event['data']);\n    }\n\n    rubberband.mousedown('button_press', mouse_event_fn);\n    rubberband.mouseup('button_release', mouse_event_fn);\n    // Throttle sequential mouse events to 1 every 20ms.\n    rubberband.mousemove('motion_notify', mouse_event_fn);\n\n    rubberband.mouseenter('figure_enter', mouse_event_fn);\n    rubberband.mouseleave('figure_leave', mouse_event_fn);\n\n    canvas_div.on(\"wheel\", function (event) {\n        event = event.originalEvent;\n        event['data'] = 'scroll'\n        if (event.deltaY < 0) {\n            event.step = 1;\n        } else {\n            event.step = -1;\n        }\n        mouse_event_fn(event);\n    });\n\n    canvas_div.append(canvas);\n    canvas_div.append(rubberband);\n\n    this.rubberband = rubberband;\n    this.rubberband_canvas = rubberband[0];\n    this.rubberband_context = rubberband[0].getContext(\"2d\");\n    this.rubberband_context.strokeStyle = \"#000000\";\n\n    this._resize_canvas = function(width, height) {\n        // Keep the size of the canvas, canvas container, and rubber band\n        // canvas in synch.\n        canvas_div.css('width', width)\n        canvas_div.css('height', height)\n\n        canvas.attr('width', width * mpl.ratio);\n        canvas.attr('height', height * mpl.ratio);\n        canvas.attr('style', 'width: ' + width + 'px; height: ' + height + 'px;');\n\n        rubberband.attr('width', width);\n        rubberband.attr('height', height);\n    }\n\n    // Set the figure to an initial 600x600px, this will subsequently be updated\n    // upon first draw.\n    this._resize_canvas(600, 600);\n\n    // Disable right mouse context menu.\n    $(this.rubberband_canvas).bind(\"contextmenu\",function(e){\n        return false;\n    });\n\n    function set_focus () {\n        canvas.focus();\n        canvas_div.focus();\n    }\n\n    window.setTimeout(set_focus, 100);\n}\n\nmpl.figure.prototype._init_toolbar = function() {\n    var fig = this;\n\n    var nav_element = $('<div/>')\n    nav_element.attr('style', 'width: 100%');\n    this.root.append(nav_element);\n\n    // Define a callback function for later on.\n    function toolbar_event(event) {\n        return fig.toolbar_button_onclick(event['data']);\n    }\n    function toolbar_mouse_event(event) {\n        return fig.toolbar_button_onmouseover(event['data']);\n    }\n\n    for(var toolbar_ind in mpl.toolbar_items) {\n        var name = mpl.toolbar_items[toolbar_ind][0];\n        var tooltip = mpl.toolbar_items[toolbar_ind][1];\n        var image = mpl.toolbar_items[toolbar_ind][2];\n        var method_name = mpl.toolbar_items[toolbar_ind][3];\n\n        if (!name) {\n            // put a spacer in here.\n            continue;\n        }\n        var button = $('<button/>');\n        button.addClass('ui-button ui-widget ui-state-default ui-corner-all ' +\n                        'ui-button-icon-only');\n        button.attr('role', 'button');\n        button.attr('aria-disabled', 'false');\n        button.click(method_name, toolbar_event);\n        button.mouseover(tooltip, toolbar_mouse_event);\n\n        var icon_img = $('<span/>');\n        icon_img.addClass('ui-button-icon-primary ui-icon');\n        icon_img.addClass(image);\n        icon_img.addClass('ui-corner-all');\n\n        var tooltip_span = $('<span/>');\n        tooltip_span.addClass('ui-button-text');\n        tooltip_span.html(tooltip);\n\n        button.append(icon_img);\n        button.append(tooltip_span);\n\n        nav_element.append(button);\n    }\n\n    var fmt_picker_span = $('<span/>');\n\n    var fmt_picker = $('<select/>');\n    fmt_picker.addClass('mpl-toolbar-option ui-widget ui-widget-content');\n    fmt_picker_span.append(fmt_picker);\n    nav_element.append(fmt_picker_span);\n    this.format_dropdown = fmt_picker[0];\n\n    for (var ind in mpl.extensions) {\n        var fmt = mpl.extensions[ind];\n        var option = $(\n            '<option/>', {selected: fmt === mpl.default_extension}).html(fmt);\n        fmt_picker.append(option)\n    }\n\n    // Add hover states to the ui-buttons\n    $( \".ui-button\" ).hover(\n        function() { $(this).addClass(\"ui-state-hover\");},\n        function() { $(this).removeClass(\"ui-state-hover\");}\n    );\n\n    var status_bar = $('<span class=\"mpl-message\"/>');\n    nav_element.append(status_bar);\n    this.message = status_bar[0];\n}\n\nmpl.figure.prototype.request_resize = function(x_pixels, y_pixels) {\n    // Request matplotlib to resize the figure. Matplotlib will then trigger a resize in the client,\n    // which will in turn request a refresh of the image.\n    this.send_message('resize', {'width': x_pixels, 'height': y_pixels});\n}\n\nmpl.figure.prototype.send_message = function(type, properties) {\n    properties['type'] = type;\n    properties['figure_id'] = this.id;\n    this.ws.send(JSON.stringify(properties));\n}\n\nmpl.figure.prototype.send_draw_message = function() {\n    if (!this.waiting) {\n        this.waiting = true;\n        this.ws.send(JSON.stringify({type: \"draw\", figure_id: this.id}));\n    }\n}\n\n\nmpl.figure.prototype.handle_save = function(fig, msg) {\n    var format_dropdown = fig.format_dropdown;\n    var format = format_dropdown.options[format_dropdown.selectedIndex].value;\n    fig.ondownload(fig, format);\n}\n\n\nmpl.figure.prototype.handle_resize = function(fig, msg) {\n    var size = msg['size'];\n    if (size[0] != fig.canvas.width || size[1] != fig.canvas.height) {\n        fig._resize_canvas(size[0], size[1]);\n        fig.send_message(\"refresh\", {});\n    };\n}\n\nmpl.figure.prototype.handle_rubberband = function(fig, msg) {\n    var x0 = msg['x0'] / mpl.ratio;\n    var y0 = (fig.canvas.height - msg['y0']) / mpl.ratio;\n    var x1 = msg['x1'] / mpl.ratio;\n    var y1 = (fig.canvas.height - msg['y1']) / mpl.ratio;\n    x0 = Math.floor(x0) + 0.5;\n    y0 = Math.floor(y0) + 0.5;\n    x1 = Math.floor(x1) + 0.5;\n    y1 = Math.floor(y1) + 0.5;\n    var min_x = Math.min(x0, x1);\n    var min_y = Math.min(y0, y1);\n    var width = Math.abs(x1 - x0);\n    var height = Math.abs(y1 - y0);\n\n    fig.rubberband_context.clearRect(\n        0, 0, fig.canvas.width, fig.canvas.height);\n\n    fig.rubberband_context.strokeRect(min_x, min_y, width, height);\n}\n\nmpl.figure.prototype.handle_figure_label = function(fig, msg) {\n    // Updates the figure title.\n    fig.header.textContent = msg['label'];\n}\n\nmpl.figure.prototype.handle_cursor = function(fig, msg) {\n    var cursor = msg['cursor'];\n    switch(cursor)\n    {\n    case 0:\n        cursor = 'pointer';\n        break;\n    case 1:\n        cursor = 'default';\n        break;\n    case 2:\n        cursor = 'crosshair';\n        break;\n    case 3:\n        cursor = 'move';\n        break;\n    }\n    fig.rubberband_canvas.style.cursor = cursor;\n}\n\nmpl.figure.prototype.handle_message = function(fig, msg) {\n    fig.message.textContent = msg['message'];\n}\n\nmpl.figure.prototype.handle_draw = function(fig, msg) {\n    // Request the server to send over a new figure.\n    fig.send_draw_message();\n}\n\nmpl.figure.prototype.handle_image_mode = function(fig, msg) {\n    fig.image_mode = msg['mode'];\n}\n\nmpl.figure.prototype.updated_canvas_event = function() {\n    // Called whenever the canvas gets updated.\n    this.send_message(\"ack\", {});\n}\n\n// A function to construct a web socket function for onmessage handling.\n// Called in the figure constructor.\nmpl.figure.prototype._make_on_message_function = function(fig) {\n    return function socket_on_message(evt) {\n        if (evt.data instanceof Blob) {\n            /* FIXME: We get \"Resource interpreted as Image but\n             * transferred with MIME type text/plain:\" errors on\n             * Chrome.  But how to set the MIME type?  It doesn't seem\n             * to be part of the websocket stream */\n            evt.data.type = \"image/png\";\n\n            /* Free the memory for the previous frames */\n            if (fig.imageObj.src) {\n                (window.URL || window.webkitURL).revokeObjectURL(\n                    fig.imageObj.src);\n            }\n\n            fig.imageObj.src = (window.URL || window.webkitURL).createObjectURL(\n                evt.data);\n            fig.updated_canvas_event();\n            fig.waiting = false;\n            return;\n        }\n        else if (typeof evt.data === 'string' && evt.data.slice(0, 21) == \"data:image/png;base64\") {\n            fig.imageObj.src = evt.data;\n            fig.updated_canvas_event();\n            fig.waiting = false;\n            return;\n        }\n\n        var msg = JSON.parse(evt.data);\n        var msg_type = msg['type'];\n\n        // Call the  \"handle_{type}\" callback, which takes\n        // the figure and JSON message as its only arguments.\n        try {\n            var callback = fig[\"handle_\" + msg_type];\n        } catch (e) {\n            console.log(\"No handler for the '\" + msg_type + \"' message type: \", msg);\n            return;\n        }\n\n        if (callback) {\n            try {\n                // console.log(\"Handling '\" + msg_type + \"' message: \", msg);\n                callback(fig, msg);\n            } catch (e) {\n                console.log(\"Exception inside the 'handler_\" + msg_type + \"' callback:\", e, e.stack, msg);\n            }\n        }\n    };\n}\n\n// from http://stackoverflow.com/questions/1114465/getting-mouse-location-in-canvas\nmpl.findpos = function(e) {\n    //this section is from http://www.quirksmode.org/js/events_properties.html\n    var targ;\n    if (!e)\n        e = window.event;\n    if (e.target)\n        targ = e.target;\n    else if (e.srcElement)\n        targ = e.srcElement;\n    if (targ.nodeType == 3) // defeat Safari bug\n        targ = targ.parentNode;\n\n    // jQuery normalizes the pageX and pageY\n    // pageX,Y are the mouse positions relative to the document\n    // offset() returns the position of the element relative to the document\n    var x = e.pageX - $(targ).offset().left;\n    var y = e.pageY - $(targ).offset().top;\n\n    return {\"x\": x, \"y\": y};\n};\n\n/*\n * return a copy of an object with only non-object keys\n * we need this to avoid circular references\n * http://stackoverflow.com/a/24161582/3208463\n */\nfunction simpleKeys (original) {\n  return Object.keys(original).reduce(function (obj, key) {\n    if (typeof original[key] !== 'object')\n        obj[key] = original[key]\n    return obj;\n  }, {});\n}\n\nmpl.figure.prototype.mouse_event = function(event, name) {\n    var canvas_pos = mpl.findpos(event)\n\n    if (name === 'button_press')\n    {\n        this.canvas.focus();\n        this.canvas_div.focus();\n    }\n\n    var x = canvas_pos.x * mpl.ratio;\n    var y = canvas_pos.y * mpl.ratio;\n\n    this.send_message(name, {x: x, y: y, button: event.button,\n                             step: event.step,\n                             guiEvent: simpleKeys(event)});\n\n    /* This prevents the web browser from automatically changing to\n     * the text insertion cursor when the button is pressed.  We want\n     * to control all of the cursor setting manually through the\n     * 'cursor' event from matplotlib */\n    event.preventDefault();\n    return false;\n}\n\nmpl.figure.prototype._key_event_extra = function(event, name) {\n    // Handle any extra behaviour associated with a key event\n}\n\nmpl.figure.prototype.key_event = function(event, name) {\n\n    // Prevent repeat events\n    if (name == 'key_press')\n    {\n        if (event.which === this._key)\n            return;\n        else\n            this._key = event.which;\n    }\n    if (name == 'key_release')\n        this._key = null;\n\n    var value = '';\n    if (event.ctrlKey && event.which != 17)\n        value += \"ctrl+\";\n    if (event.altKey && event.which != 18)\n        value += \"alt+\";\n    if (event.shiftKey && event.which != 16)\n        value += \"shift+\";\n\n    value += 'k';\n    value += event.which.toString();\n\n    this._key_event_extra(event, name);\n\n    this.send_message(name, {key: value,\n                             guiEvent: simpleKeys(event)});\n    return false;\n}\n\nmpl.figure.prototype.toolbar_button_onclick = function(name) {\n    if (name == 'download') {\n        this.handle_save(this, null);\n    } else {\n        this.send_message(\"toolbar_button\", {name: name});\n    }\n};\n\nmpl.figure.prototype.toolbar_button_onmouseover = function(tooltip) {\n    this.message.textContent = tooltip;\n};\nmpl.toolbar_items = [[\"Home\", \"Reset original view\", \"fa fa-home icon-home\", \"home\"], [\"Back\", \"Back to  previous view\", \"fa fa-arrow-left icon-arrow-left\", \"back\"], [\"Forward\", \"Forward to next view\", \"fa fa-arrow-right icon-arrow-right\", \"forward\"], [\"\", \"\", \"\", \"\"], [\"Pan\", \"Pan axes with left mouse, zoom with right\", \"fa fa-arrows icon-move\", \"pan\"], [\"Zoom\", \"Zoom to rectangle\", \"fa fa-square-o icon-check-empty\", \"zoom\"], [\"\", \"\", \"\", \"\"], [\"Download\", \"Download plot\", \"fa fa-floppy-o icon-save\", \"download\"]];\n\nmpl.extensions = [\"eps\", \"jpeg\", \"pdf\", \"png\", \"ps\", \"raw\", \"svg\", \"tif\"];\n\nmpl.default_extension = \"png\";var comm_websocket_adapter = function(comm) {\n    // Create a \"websocket\"-like object which calls the given IPython comm\n    // object with the appropriate methods. Currently this is a non binary\n    // socket, so there is still some room for performance tuning.\n    var ws = {};\n\n    ws.close = function() {\n        comm.close()\n    };\n    ws.send = function(m) {\n        //console.log('sending', m);\n        comm.send(m);\n    };\n    // Register the callback with on_msg.\n    comm.on_msg(function(msg) {\n        //console.log('receiving', msg['content']['data'], msg);\n        // Pass the mpl event to the overriden (by mpl) onmessage function.\n        ws.onmessage(msg['content']['data'])\n    });\n    return ws;\n}\n\nmpl.mpl_figure_comm = function(comm, msg) {\n    // This is the function which gets called when the mpl process\n    // starts-up an IPython Comm through the \"matplotlib\" channel.\n\n    var id = msg.content.data.id;\n    // Get hold of the div created by the display call when the Comm\n    // socket was opened in Python.\n    var element = $(\"#\" + id);\n    var ws_proxy = comm_websocket_adapter(comm)\n\n    function ondownload(figure, format) {\n        window.open(figure.imageObj.src);\n    }\n\n    var fig = new mpl.figure(id, ws_proxy,\n                           ondownload,\n                           element.get(0));\n\n    // Call onopen now - mpl needs it, as it is assuming we've passed it a real\n    // web socket which is closed, not our websocket->open comm proxy.\n    ws_proxy.onopen();\n\n    fig.parent_element = element.get(0);\n    fig.cell_info = mpl.find_output_cell(\"<div id='\" + id + \"'></div>\");\n    if (!fig.cell_info) {\n        console.error(\"Failed to find cell for figure\", id, fig);\n        return;\n    }\n\n    var output_index = fig.cell_info[2]\n    var cell = fig.cell_info[0];\n\n};\n\nmpl.figure.prototype.handle_close = function(fig, msg) {\n    var width = fig.canvas.width/mpl.ratio\n    fig.root.unbind('remove')\n\n    // Update the output cell to use the data from the current canvas.\n    fig.push_to_output();\n    var dataURL = fig.canvas.toDataURL();\n    // Re-enable the keyboard manager in IPython - without this line, in FF,\n    // the notebook keyboard shortcuts fail.\n    IPython.keyboard_manager.enable()\n    $(fig.parent_element).html('<img src=\"' + dataURL + '\" width=\"' + width + '\">');\n    fig.close_ws(fig, msg);\n}\n\nmpl.figure.prototype.close_ws = function(fig, msg){\n    fig.send_message('closing', msg);\n    // fig.ws.close()\n}\n\nmpl.figure.prototype.push_to_output = function(remove_interactive) {\n    // Turn the data on the canvas into data in the output cell.\n    var width = this.canvas.width/mpl.ratio\n    var dataURL = this.canvas.toDataURL();\n    this.cell_info[1]['text/html'] = '<img src=\"' + dataURL + '\" width=\"' + width + '\">';\n}\n\nmpl.figure.prototype.updated_canvas_event = function() {\n    // Tell IPython that the notebook contents must change.\n    IPython.notebook.set_dirty(true);\n    this.send_message(\"ack\", {});\n    var fig = this;\n    // Wait a second, then push the new image to the DOM so\n    // that it is saved nicely (might be nice to debounce this).\n    setTimeout(function () { fig.push_to_output() }, 1000);\n}\n\nmpl.figure.prototype._init_toolbar = function() {\n    var fig = this;\n\n    var nav_element = $('<div/>')\n    nav_element.attr('style', 'width: 100%');\n    this.root.append(nav_element);\n\n    // Define a callback function for later on.\n    function toolbar_event(event) {\n        return fig.toolbar_button_onclick(event['data']);\n    }\n    function toolbar_mouse_event(event) {\n        return fig.toolbar_button_onmouseover(event['data']);\n    }\n\n    for(var toolbar_ind in mpl.toolbar_items){\n        var name = mpl.toolbar_items[toolbar_ind][0];\n        var tooltip = mpl.toolbar_items[toolbar_ind][1];\n        var image = mpl.toolbar_items[toolbar_ind][2];\n        var method_name = mpl.toolbar_items[toolbar_ind][3];\n\n        if (!name) { continue; };\n\n        var button = $('<button class=\"btn btn-default\" href=\"#\" title=\"' + name + '\"><i class=\"fa ' + image + ' fa-lg\"></i></button>');\n        button.click(method_name, toolbar_event);\n        button.mouseover(tooltip, toolbar_mouse_event);\n        nav_element.append(button);\n    }\n\n    // Add the status bar.\n    var status_bar = $('<span class=\"mpl-message\" style=\"text-align:right; float: right;\"/>');\n    nav_element.append(status_bar);\n    this.message = status_bar[0];\n\n    // Add the close button to the window.\n    var buttongrp = $('<div class=\"btn-group inline pull-right\"></div>');\n    var button = $('<button class=\"btn btn-mini btn-primary\" href=\"#\" title=\"Stop Interaction\"><i class=\"fa fa-power-off icon-remove icon-large\"></i></button>');\n    button.click(function (evt) { fig.handle_close(fig, {}); } );\n    button.mouseover('Stop Interaction', toolbar_mouse_event);\n    buttongrp.append(button);\n    var titlebar = this.root.find($('.ui-dialog-titlebar'));\n    titlebar.prepend(buttongrp);\n}\n\nmpl.figure.prototype._root_extra_style = function(el){\n    var fig = this\n    el.on(\"remove\", function(){\n\tfig.close_ws(fig, {});\n    });\n}\n\nmpl.figure.prototype._canvas_extra_style = function(el){\n    // this is important to make the div 'focusable\n    el.attr('tabindex', 0)\n    // reach out to IPython and tell the keyboard manager to turn it's self\n    // off when our div gets focus\n\n    // location in version 3\n    if (IPython.notebook.keyboard_manager) {\n        IPython.notebook.keyboard_manager.register_events(el);\n    }\n    else {\n        // location in version 2\n        IPython.keyboard_manager.register_events(el);\n    }\n\n}\n\nmpl.figure.prototype._key_event_extra = function(event, name) {\n    var manager = IPython.notebook.keyboard_manager;\n    if (!manager)\n        manager = IPython.keyboard_manager;\n\n    // Check for shift+enter\n    if (event.shiftKey && event.which == 13) {\n        this.canvas_div.blur();\n        // select the cell after this one\n        var index = IPython.notebook.find_cell_index(this.cell_info[0]);\n        IPython.notebook.select(index + 1);\n    }\n}\n\nmpl.figure.prototype.handle_save = function(fig, msg) {\n    fig.ondownload(fig, null);\n}\n\n\nmpl.find_output_cell = function(html_output) {\n    // Return the cell and output element which can be found *uniquely* in the notebook.\n    // Note - this is a bit hacky, but it is done because the \"notebook_saving.Notebook\"\n    // IPython event is triggered only after the cells have been serialised, which for\n    // our purposes (turning an active figure into a static one), is too late.\n    var cells = IPython.notebook.get_cells();\n    var ncells = cells.length;\n    for (var i=0; i<ncells; i++) {\n        var cell = cells[i];\n        if (cell.cell_type === 'code'){\n            for (var j=0; j<cell.output_area.outputs.length; j++) {\n                var data = cell.output_area.outputs[j];\n                if (data.data) {\n                    // IPython >= 3 moved mimebundle to data attribute of output\n                    data = data.data;\n                }\n                if (data['text/html'] == html_output) {\n                    return [cell, data, j];\n                }\n            }\n        }\n    }\n}\n\n// Register the function which deals with the matplotlib target/channel.\n// The kernel may be null if the page has been refreshed.\nif (IPython.notebook.kernel != null) {\n    IPython.notebook.kernel.comm_manager.register_target('matplotlib', mpl.mpl_figure_comm);\n}\n",
      "text/plain": [
       "<IPython.core.display.Javascript object>"
      ]
     },
     "metadata": {},
     "output_type": "display_data"
    },
    {
     "data": {
      "text/html": [
       "<img src=\"data:image/png;base64,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\" width=\"640\">"
      ],
      "text/plain": [
       "<IPython.core.display.HTML object>"
      ]
     },
     "metadata": {},
     "output_type": "display_data"
    },
    {
     "data": {
      "text/plain": [
       "<Container object of 4 artists>"
      ]
     },
     "execution_count": 109,
     "metadata": {},
     "output_type": "execute_result"
    }
   ],
   "source": [
    "fig = plt.figure()\n",
    "ax = fig.gca()\n",
    "\n",
    "# Set X Axis\n",
    "ax.xaxis.set_major_locator(MaxNLocator(integer=True)) # For interger axis label\n",
    "ax.set_xlabel(\"Year\")\n",
    "\n",
    "# Set Y Axis\n",
    "ax.set_ylabel(\"Mean\")\n",
    "\n",
    "# Set Title\n",
    "ax.set_title(\"Mean Values by Year\")\n",
    "\n",
    "# Plot line for given y-axis value\n",
    "value = 40000\n",
    "ax.axhline(y=value, color='black', label=(\"Value: \" + str(value)))\n",
    "plt.legend()\n",
    "\n",
    "# Set Color\n",
    "barColor = []\n",
    "for i in xAxis:\n",
    "    if mean[i] == value:\n",
    "        barColor.append('white')\n",
    "    elif mean[i] < value:\n",
    "        barColor.append('blue')\n",
    "    else:\n",
    "        barColor.append('red')\n",
    "\n",
    "# Plot a Vertical Bar with Confidence Interval 95%\n",
    "plt.bar(xAxis, mean, \n",
    "        align='center', color=barColor, edgecolor='black',\n",
    "        yerr=std, capsize=10)"
   ]
  },
  {
   "cell_type": "code",
   "execution_count": 111,
   "metadata": {
    "collapsed": false
   },
   "outputs": [],
   "source": [
    "plt.savefig('Assignment_3.png')"
   ]
  },
  {
   "cell_type": "code",
   "execution_count": null,
   "metadata": {
    "collapsed": true
   },
   "outputs": [],
   "source": []
  }
 ],
 "metadata": {
  "kernelspec": {
   "display_name": "Python 3",
   "language": "python",
   "name": "python3"
  },
  "language_info": {
   "codemirror_mode": {
    "name": "ipython",
    "version": 3
   },
   "file_extension": ".py",
   "mimetype": "text/x-python",
   "name": "python",
   "nbconvert_exporter": "python",
   "pygments_lexer": "ipython3",
   "version": "3.6.2"
  }
 },
 "nbformat": 4,
 "nbformat_minor": 2
}
